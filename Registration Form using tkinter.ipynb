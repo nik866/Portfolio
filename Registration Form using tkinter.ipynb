{
 "cells": [
  {
   "cell_type": "code",
   "execution_count": 1,
   "id": "81244cdc",
   "metadata": {},
   "outputs": [],
   "source": [
    "from tkinter import *"
   ]
  },
  {
   "cell_type": "code",
   "execution_count": 5,
   "id": "8116c264",
   "metadata": {},
   "outputs": [
    {
     "name": "stdout",
     "output_type": "stream",
     "text": [
      "Your Information Has Been Saved Successfully\n"
     ]
    }
   ],
   "source": [
    "root = Tk()\n",
    "root.geometry(\"500x300\")\n",
    "def submit_value():\n",
    "    print(\"Your Information Has Been Saved Successfully\")\n",
    "name_user = Label(root, text=\"Student Name\")\n",
    "name_user.grid(row=1, column=2)\n",
    "branch_user = Label(root, text=\"Branch\")\n",
    "branch_user.grid(row=2, column=2)\n",
    "gender_user = Label(root, text=\"Gender\")\n",
    "gender_user.grid(row=3, column=2)\n",
    "phone_user = Label(root, text=\"Contact No\")\n",
    "phone_user.grid(row=4, column=2)\n",
    "country_user = Label(root, text=\"Country\")\n",
    "country_user.grid(row=5, column=2)\n",
    "name_value = StringVar\n",
    "branch_value = StringVar\n",
    "gender_value = StringVar\n",
    "phone_user = StringVar\n",
    "country_user = StringVar\n",
    "check_value = IntVar\n",
    "name_box = Entry(root, textvariable=\"name_value\")\n",
    "name_box.grid(row=1, column=3)\n",
    "branch_box = Entry(root, textvariable=\"branch_value\")\n",
    "branch_box.grid(row=2, column=3)\n",
    "gender_box = Entry(root, textvariable=\"gender_value\")\n",
    "gender_box.grid(row=3, column=3)\n",
    "phone_box = Entry(root, textvariable=\"phone_value\")\n",
    "phone_box.grid(row=4, column=3)\n",
    "country_box = Entry(root, textvariable=\"country_value\")\n",
    "country_box.grid(row=5, column=3)\n",
    "check_box = Checkbutton(text=\"Remember Me?\", variable=\"check_value\")\n",
    "check_box.grid(row=6, column=3)\n",
    "Button(text=\"Submit\", command=submit_value).grid(row=7, column=3)\n",
    "root.mainloop()"
   ]
  },
  {
   "cell_type": "code",
   "execution_count": null,
   "id": "71bdd442",
   "metadata": {},
   "outputs": [],
   "source": []
  }
 ],
 "metadata": {
  "kernelspec": {
   "display_name": "Python 3 (ipykernel)",
   "language": "python",
   "name": "python3"
  },
  "language_info": {
   "codemirror_mode": {
    "name": "ipython",
    "version": 3
   },
   "file_extension": ".py",
   "mimetype": "text/x-python",
   "name": "python",
   "nbconvert_exporter": "python",
   "pygments_lexer": "ipython3",
   "version": "3.9.12"
  }
 },
 "nbformat": 4,
 "nbformat_minor": 5
}
